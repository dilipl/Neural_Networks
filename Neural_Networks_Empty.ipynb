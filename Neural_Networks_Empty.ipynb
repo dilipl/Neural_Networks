{
 "cells": [
  {
   "cell_type": "markdown",
   "metadata": {},
   "source": [
    "# Assign input, output, weight, learning rate"
   ]
  },
  {
   "cell_type": "code",
   "execution_count": null,
   "metadata": {
    "scrolled": true
   },
   "outputs": [],
   "source": [
    "import numpy as np\n",
    "import pandas as pd\n",
    "data = {'Fever':[0,0,1,1],'Shortness_breath':[0,1,0,1], 'Need_exam':[0,1,1,1]}\n",
    "covid = pd.DataFrame(data)\n",
    "covid"
   ]
  },
  {
   "cell_type": "code",
   "execution_count": null,
   "metadata": {},
   "outputs": [],
   "source": [
    "# Simplify our example\n",
    "data = {'input1':[0,0,1,1],'input2':[0,1,0,1], 'target':[0,1,1,1]}\n",
    "df = pd.DataFrame(data)\n",
    "df"
   ]
  },
  {
   "cell_type": "markdown",
   "metadata": {},
   "source": [
    "$\n",
    "\\begin{vmatrix}\n",
    "I_1 & I_2 \\\\\n",
    "I_1 & I_2 \\\\\n",
    "I_1 & I_2 \\\\\n",
    "I_1 & I_2 \\\\\n",
    "\\end{vmatrix} \n",
    "\\times\n",
    "\\begin{vmatrix}\n",
    "W_1  \\\\\n",
    "W_2  \\\\\n",
    "\\end{vmatrix} -> \n",
    "\\begin{vmatrix}\n",
    "I_w  \\\\\n",
    "I_w  \\\\\n",
    "I_w  \\\\\n",
    "I_w  \\\\\n",
    "\\end{vmatrix} ->\n",
    "Activation\n",
    " = \n",
    "\\begin{vmatrix}\n",
    "O  \\\\\n",
    "O  \\\\\n",
    "O  \\\\\n",
    "O  \\\\\n",
    "\\end{vmatrix}\n",
    "$"
   ]
  },
  {
   "cell_type": "markdown",
   "metadata": {},
   "source": [
    "# Activation function: Sigmoid"
   ]
  },
  {
   "cell_type": "markdown",
   "metadata": {},
   "source": [
    "$$f(x) = Sigmoid(x) = \\frac{1}{1 + e^{(-x)}}$$\n",
    "* f(x):sigmoid output value should between 0 and 1\n",
    "\n",
    "* e:known as Euler's number, is a mathematical constant approximately equal to 2.71828.\n",
    "\n",
    "* x: input values\n",
    "* In the binary classification both sigmoid and softmax function are the same where as in the multi-class classification we use Softmax function."
   ]
  },
  {
   "cell_type": "code",
   "execution_count": null,
   "metadata": {},
   "outputs": [],
   "source": [
    "# Define sigmoid\n",
    "def sigmoid(x):\n",
    "    return 1/(1+np.exp(-x))\n",
    "\n",
    "import numpy as np\n",
    "import matplotlib.pyplot as plt\n",
    "\n",
    "example = np.linspace(-10,10,100) # generate 100 points between -10 and 10\n",
    "#print('example:',example)\n",
    "output = sigmoid(example)\n",
    "plt.plot(example,output)\n",
    "plt.xlabel(\"Input\")\n",
    "plt.ylabel(\"Output\")"
   ]
  },
  {
   "cell_type": "markdown",
   "metadata": {},
   "source": [
    "## Derivative of Sigmoid function"
   ]
  },
  {
   "cell_type": "markdown",
   "metadata": {},
   "source": [
    "$$\n",
    "f'(x) = \\frac{d}{dx}{Sigmoid(x)} = Sigmoid(x)*(1-Sigmoid(x))\n",
    "$$"
   ]
  },
  {
   "cell_type": "code",
   "execution_count": null,
   "metadata": {},
   "outputs": [],
   "source": [
    "# The derivative measures the steepness of the graph of a function at some particular point on the graph\n",
    "# The derivative is a slope.\n",
    "# Define derivative of sigmoid function\n",
    "def sigmoid_der(x):\n",
    "    return sigmoid(x)*(1-sigmoid(x))\n",
    "der_output = sigmoid_der(example)\n",
    "plt.plot(example,output)\n",
    "plt.plot(example,der_output)"
   ]
  },
  {
   "cell_type": "markdown",
   "metadata": {},
   "source": [
    "## First round calculation"
   ]
  },
  {
   "cell_type": "code",
   "execution_count": null,
   "metadata": {},
   "outputs": [],
   "source": [
    "df"
   ]
  },
  {
   "cell_type": "markdown",
   "metadata": {},
   "source": [
    "### Feedforward input\n",
    "\n",
    "Initialize Weights -> Summation -> Activation -> Error\n",
    "* Randomly assign weight for x1 x2 and bias: w1 = 0.2, w2 = 0.3, w3 = 0.5\n",
    "* From dataset, we choose row 1: x1 = 0, x2 = 1, target = 1\n",
    "\n",
    "Weighted perceptron o1 from the row 1: \\\n",
    "$\n",
    "in_{o1} = input_1*w_1 + input_2*w_2 + bias \\\\\n",
    "= x_1 \\times w_1 + x_2 \\times w_2 + b \\times w_3\\\\\n",
    "= 0 \\times 0.2 + 1 \\times 0.3 + 1 \\times 0.5 \\\\\n",
    "= 0 + 0.3 + 0.5 \\\\\n",
    "= 0.8\n",
    "$"
   ]
  },
  {
   "cell_type": "markdown",
   "metadata": {},
   "source": [
    "### Feedforward output\n",
    "\n",
    "$in_{o1} -> sigmoid \\ standardize -> out_{o1} \\\\\n",
    "out_{o1} = sigmoid(in_{o1}) = \\frac{1}{1 + e^{-0.8}} = 0.68997\n",
    "$"
   ]
  },
  {
   "cell_type": "markdown",
   "metadata": {},
   "source": [
    "### Error Calculation\n",
    "$\n",
    "\\begin{align}\n",
    "Error = MSE = \\frac{1}{n} \\sum_ {i=1}^n (\\hat Y_i - Y_i)^2  = \\frac{1}{2} \\sum_ {}(target_1 - output_1)^2 \\\\\n",
    "= 0.5 * (1 - 0.68997)^2 = 0.048059\n",
    "\\end{align}\n",
    "$\n",
    "\n",
    "You need to calculate for all input pairs, here is an example for only one input"
   ]
  },
  {
   "cell_type": "markdown",
   "metadata": {},
   "source": [
    "### Backpropagation\n",
    "Update Weights <- Summation <- Activation <- Error\n",
    "\n",
    "$$X = X - lr * \\frac{d}{dX}{f(X)}$$\n",
    "\n",
    "$\n",
    "W_{new1} = W_{old1} - lr * \\frac{dError}{dW_1} \\\\\n",
    "W_{new2} = W_{old2} - lr * \\frac{dError}{dW_2}\n",
    "$\n",
    "* X:input\n",
    "* lr:learning rate\n",
    "* f(X): output based on X\n",
    "* assume lr = 0.01"
   ]
  },
  {
   "cell_type": "markdown",
   "metadata": {},
   "source": [
    "## Derivation of the formula used in a neural network"
   ]
  },
  {
   "cell_type": "markdown",
   "metadata": {},
   "source": [
    "$$\\frac{\\partial Error}{\\partial w} = \\frac{\\partial Error}{\\partial out_o} \\times \\frac{\\partial out_o}{\\partial in_o} \\times  \\frac{\\partial in_o}{\\partial w}$$"
   ]
  },
  {
   "cell_type": "markdown",
   "metadata": {},
   "source": [
    "### Calculate the 1st part $\\frac{\\partial Error}{\\partial out_o} = output-target = -0.31003$"
   ]
  },
  {
   "cell_type": "markdown",
   "metadata": {},
   "source": [
    "$\n",
    "\\frac{\\partial Error}{\\partial out_o} = \\frac{\\partial}{\\partial out_o}({\\frac{1}{2}*{(target - output)^2})}\n",
    "$"
   ]
  },
  {
   "cell_type": "markdown",
   "metadata": {},
   "source": [
    "$\n",
    "\\frac{\\partial Error}{\\partial out_o} = (\\frac{1}{2}*2*{(target - output))}* \\frac{\\partial}{\\partial out_o}{(target - output)}\n",
    "$"
   ]
  },
  {
   "cell_type": "markdown",
   "metadata": {},
   "source": [
    "$\n",
    "\\frac{\\partial Error}{\\partial out_o} = (target - output) * (-1)\n",
    "$"
   ]
  },
  {
   "cell_type": "markdown",
   "metadata": {},
   "source": [
    "$\n",
    "\\frac{\\partial Error}{\\partial out_o} = output - target\n",
    "$"
   ]
  },
  {
   "cell_type": "markdown",
   "metadata": {},
   "source": [
    "$ \n",
    "\\because out_{o1} = 0.68997, target = 1\n",
    "$"
   ]
  },
  {
   "cell_type": "markdown",
   "metadata": {},
   "source": [
    "$\\therefore \\frac{\\partial Error}{\\partial out_o} = (0.68997 - 1) = -0.31003$"
   ]
  },
  {
   "cell_type": "markdown",
   "metadata": {},
   "source": [
    "### Calculate the 2nd part $\\frac{\\partial out_o}{\\partial in_o} = out_o \\times (1 - out_o) = 0.21391$"
   ]
  },
  {
   "cell_type": "markdown",
   "metadata": {},
   "source": [
    "$\n",
    "\\because out_{o1} = sigmoid(in_{o1}) = \\frac{1}{1 + e^{-in_{o1}}}\n",
    "$"
   ]
  },
  {
   "cell_type": "markdown",
   "metadata": {},
   "source": [
    "$\n",
    "\\frac{\\partial out_{o1}}{\\partial ino_1} = \\frac{\\partial}{\\partial in_{o1}}{(\\frac{1}{1 + e^{-in_{o1}}})}\n",
    "$"
   ]
  },
  {
   "cell_type": "markdown",
   "metadata": {},
   "source": [
    "$\n",
    "= \\frac{\\partial}{\\partial in_{o1}}{(1 + e^{-in_{o1}})}^{-1}\n",
    "$  -----> simplify"
   ]
  },
  {
   "cell_type": "markdown",
   "metadata": {},
   "source": [
    "$\n",
    "= -1(1 + e^{-in_{o1}})^{-2} \\times \\frac{\\partial}{\\partial in_{o1}}(1 + e^{-in_{o1}})\n",
    "$ ------> chain rule + power rule"
   ]
  },
  {
   "cell_type": "markdown",
   "metadata": {},
   "source": [
    "$\n",
    "= -1(1 + e^{-in_{o1}})^{-2} \\times (\\frac{\\partial}{\\partial in_{o1}}(1) + \\frac{\\partial}{\\partial in_{o1}}(e^{-in_{o1}}))\n",
    "$ ------> sum rule"
   ]
  },
  {
   "cell_type": "markdown",
   "metadata": {},
   "source": [
    "$\n",
    "= -1(1 + e^{-in_{o1}})^{-2} \\times (0 + \\frac{\\partial}{\\partial in_{o1}}(e^{-in_{o1}}))\n",
    "$ ------> simplify"
   ]
  },
  {
   "cell_type": "markdown",
   "metadata": {},
   "source": [
    "$\n",
    "= -1(1 + e^{-in_{o1}})^{-2} \\times (e^{-in_{o1}} \\times \\frac{\\partial}{\\partial in_{o1}}(-in_{o1}))\n",
    "$ ------> exponential rule"
   ]
  },
  {
   "cell_type": "markdown",
   "metadata": {},
   "source": [
    "$\n",
    "= -1(1 + e^{-in_{o1}})^{-2} \\times (e^{-in_{o1}} \\times (-1)))\n",
    "$ ------> simplify"
   ]
  },
  {
   "cell_type": "markdown",
   "metadata": {},
   "source": [
    "$\n",
    "= (1 + e^{-in_{o1}})^{-2} \\times (e^{-in_{o1}})\n",
    "$ ------> simplify"
   ]
  },
  {
   "cell_type": "markdown",
   "metadata": {},
   "source": [
    "$\n",
    "= \\frac{e^{-in_{o1}}}{(1 + e^{-in_{o1}})^2}\n",
    "$ ------> simplify"
   ]
  },
  {
   "cell_type": "markdown",
   "metadata": {},
   "source": [
    "$\n",
    "= \\frac{1 \\times (e^{-in_{o1}})}{(1 + e^{-in_{o1}}) \\times(1 + e^{-in_{o1}})}\n",
    "$ ------> tricks"
   ]
  },
  {
   "cell_type": "markdown",
   "metadata": {},
   "source": [
    "$\n",
    "= \\frac{1}{1 + e^{-in_{o1}}} \\times \\frac{e^{-in_{o1}}}{1 + e^{-in_{o1}}}\n",
    "$ ------> separate"
   ]
  },
  {
   "cell_type": "markdown",
   "metadata": {},
   "source": [
    "$\n",
    "= \\frac{1}{1 + e^{-in_{o1}}} \\times \\frac{e^{-in_{o1}} + 1 - 1}{1 + e^{-in_{o1}}}\n",
    "$ ------> tricks"
   ]
  },
  {
   "cell_type": "markdown",
   "metadata": {},
   "source": [
    "$\n",
    "= \\frac{1}{1 + e^{-in_{o1}}} \\times [\\frac{e^{-in_{o1}} + 1}{1 + e^{-in_{o1}}} - \\frac{1}{1 + e^{-in_{o1}}}]\n",
    "$ ------> separate"
   ]
  },
  {
   "cell_type": "markdown",
   "metadata": {},
   "source": [
    "$\n",
    "= \\frac{1}{1 + e^{-in_{o1}}} \\times [1 - \\frac{1}{1 + e^{-in_{o1}}}]\n",
    "$ ------> simplify"
   ]
  },
  {
   "cell_type": "markdown",
   "metadata": {},
   "source": [
    "$\n",
    "\\because out_{o1} = \\frac{1}{1 + e^{-in_{o1}}} = 0.68997\n",
    "$ "
   ]
  },
  {
   "cell_type": "markdown",
   "metadata": {},
   "source": [
    "$\n",
    "\\therefore \\frac{\\partial out_{o1}}{\\partial ino_1} = out_{o1} \\times (1 - out_{o1}) = 0.68997 \\times (1 - 0.68997) = 0.21391\n",
    "$"
   ]
  },
  {
   "cell_type": "markdown",
   "metadata": {},
   "source": [
    "### Calculate the 3rd part $\\frac{\\partial in_o}{\\partial w} = input \\ values = 1$"
   ]
  },
  {
   "cell_type": "markdown",
   "metadata": {},
   "source": [
    "All the other values except w2 will be considered constant here.\n",
    "$\n",
    "\\frac{\\partial in_{o1}}{\\partial w} = w_1 \\times x_1 + w_2 \\times x_2 = x_2 = 1\n",
    "$ "
   ]
  },
  {
   "cell_type": "markdown",
   "metadata": {},
   "source": [
    "### Put 3 parts together"
   ]
  },
  {
   "cell_type": "markdown",
   "metadata": {},
   "source": [
    "$\\frac{\\partial Error}{\\partial w} = \\frac{\\partial Error}{\\partial out_o} \\times \\frac{\\partial out_o}{\\partial in_o} \\times  \\frac{\\partial in_o}{\\partial w} = -0.31003 \\times 0.21391 \\times 1 = -0.06631$"
   ]
  },
  {
   "cell_type": "markdown",
   "metadata": {},
   "source": [
    "### New calculate new weights to join the next epoch\n",
    "$\n",
    "\\because w_{new1} = w_{old1} - lr \\times \\frac{\\partial Error}{\\partial w_1} \\\\\n",
    "= 0.2 - (0.05) \\times (-0.06631) \\\\\n",
    "= 0.2033155\n",
    "$"
   ]
  },
  {
   "cell_type": "code",
   "execution_count": null,
   "metadata": {},
   "outputs": [],
   "source": [
    "df"
   ]
  },
  {
   "cell_type": "code",
   "execution_count": null,
   "metadata": {},
   "outputs": [],
   "source": [
    "#input_features = np.array([[0,0],[0,1],[1,0],[1,1]])\n",
    "input_features = df[['input1','input2']].to_numpy()\n",
    "print(input_features.shape)\n",
    "input_features"
   ]
  },
  {
   "cell_type": "code",
   "execution_count": null,
   "metadata": {},
   "outputs": [],
   "source": [
    "#target_output = np.array([[0,1,1,1]])\n",
    "target_output = df[['target']].to_numpy()\n",
    "target_output = target_output.reshape(4,1)\n",
    "print(target_output.shape)\n",
    "target_output"
   ]
  },
  {
   "cell_type": "code",
   "execution_count": null,
   "metadata": {},
   "outputs": [],
   "source": [
    "weights = np.array([[0.1],[0.2]])\n",
    "print(weights.shape)\n",
    "weights"
   ]
  },
  {
   "cell_type": "code",
   "execution_count": null,
   "metadata": {},
   "outputs": [],
   "source": [
    "bias = 0.3\n",
    "lr = 0.05"
   ]
  },
  {
   "cell_type": "markdown",
   "metadata": {},
   "source": [
    "$\\frac{\\partial Error}{\\partial w} = \\frac{\\partial Error}{\\partial out_o} \\times \\frac{\\partial out_o}{\\partial in_o} \\times  \\frac{\\partial in_o}{\\partial w}$\n",
    "\n",
    "1st part $\\frac{\\partial Error}{\\partial out_o} = output-target$ \n",
    "\n",
    "2nd part $\\frac{\\partial out_o}{\\partial in_o} = out_o \\times (1 - out_o)$\n",
    "\n",
    "3rd part $\\frac{\\partial in_o}{\\partial w} = input \\ values$"
   ]
  },
  {
   "cell_type": "code",
   "execution_count": null,
   "metadata": {
    "scrolled": false
   },
   "outputs": [],
   "source": [
    "weights = np.array([[0.2],[0.3]])\n",
    "bias = 0.3\n",
    "lr = 0.05\n",
    "\n",
    "for epoch in range(1):\n",
    "    print('weights:',weights)\n",
    "    \n",
    "    inputs = input_features\n",
    "    print('inputs:',inputs)\n",
    "    \n",
    "    in_o = np.dot(inputs, weights) + bias\n",
    "    print('bias:',bias)\n",
    "    print('in_o:',in_o)\n",
    "    \n",
    "    out_o = sigmoid(in_o)\n",
    "    print('out_o:',out_o)\n",
    "    \n",
    "    error = out_o - target_output\n",
    "    print('target_output:',target_output)\n",
    "    print('error:',error)\n",
    "\n",
    "    dError_dOut = error #1st part\n",
    "    print('first part:',dError_dOut)\n",
    "    \n",
    "    dOut_dIn = sigmoid_der(out_o) #2nd part\n",
    "    print('second part:',dOut_dIn)\n",
    "    \n",
    "    # We need to update bias. Bias weight is not dependent on the input.\n",
    "    # We have to update it separately.\n",
    "    # We need deriv values to update bias value.\n",
    "    deriv = dError_dOut * dOut_dIn\n",
    "    print('deriv:',deriv)\n",
    "    \n",
    "    inputs = input_features.T #3rd part\n",
    "    print('third part:',inputs)\n",
    "    deriv_final = np.dot(inputs, deriv) \n",
    "    print('All 3 parts:',deriv_final)\n",
    "    \n",
    "    weights -= lr * deriv_final # Get new weight\n",
    "    print('New Weight:',weights)\n",
    "    \n",
    "    # Through the \"for loop\" for updating bias at each input on every iteration\n",
    "    for i in deriv:\n",
    "        bias -= lr * i\n",
    "    print('New Bias:',bias)\n",
    "    print('------')"
   ]
  },
  {
   "cell_type": "code",
   "execution_count": null,
   "metadata": {},
   "outputs": [],
   "source": [
    "# Clear Version\n",
    "weights = np.array([[0.2],[0.3]])\n",
    "bias = 0.3\n",
    "lr = 0.05\n",
    "\n",
    "for epoch in range(10000):\n",
    "    inputs = input_features\n",
    "    in_o = np.dot(inputs, weights) + bias\n",
    "    out_o = sigmoid(in_o)\n",
    "    error = out_o - target_output\n",
    "    \n",
    "    x = error.sum()\n",
    "    if epoch%1000 == 0:\n",
    "        print('Epoch:',epoch,'Error Sum:',x)\n",
    "    \n",
    "    dError_dOut = error #1st part\n",
    "    dOut_dIn = sigmoid_der(out_o) #2nd part\n",
    "    deriv = dError_dOut * dOut_dIn\n",
    "    inputs = input_features.T #3rd part\n",
    "    deriv_final = np.dot(inputs, deriv) \n",
    "    weights -= lr * deriv_final \n",
    "    \n",
    "    for i in deriv:\n",
    "        bias -= lr * i"
   ]
  },
  {
   "cell_type": "code",
   "execution_count": null,
   "metadata": {},
   "outputs": [],
   "source": [
    "print('Weights:',weights)\n",
    "print('Bias:',bias)"
   ]
  },
  {
   "cell_type": "code",
   "execution_count": null,
   "metadata": {},
   "outputs": [],
   "source": [
    "# Prediction with the new model for [1,1], groud truth result = 1\n",
    "single_point = np.array([1,0])\n",
    "result1 = np.dot(single_point, weights) + bias\n",
    "result2 = sigmoid(result1)\n",
    "result2"
   ]
  },
  {
   "cell_type": "code",
   "execution_count": null,
   "metadata": {},
   "outputs": [],
   "source": [
    "# Prediction with the new model for [0,0], groud truth result = 0\n",
    "single_point = np.array([0,0])\n",
    "result1 = np.dot(single_point, weights) + bias\n",
    "result2 = sigmoid(result1)\n",
    "result2"
   ]
  },
  {
   "cell_type": "markdown",
   "metadata": {},
   "source": [
    "# Why do we need bias?"
   ]
  },
  {
   "cell_type": "code",
   "execution_count": null,
   "metadata": {},
   "outputs": [],
   "source": [
    "# Change steepness\n",
    "input = np.linspace(-10,10,100)\n",
    "output = sigmoid(input)\n",
    "plt.plot(input,output,c=\"blue\",label='output')\n",
    "output = sigmoid(input*0.5)\n",
    "plt.plot(input,output,c=\"red\",label='output*0.5')\n",
    "output = sigmoid(input*2.5)\n",
    "plt.plot(input,output,c=\"green\",label='output*2.5')\n",
    "plt.legend()"
   ]
  },
  {
   "cell_type": "code",
   "execution_count": null,
   "metadata": {},
   "outputs": [],
   "source": [
    "# Change location\n",
    "input = np.linspace(-10,10,100)\n",
    "output = sigmoid(input)\n",
    "plt.plot(input,output,c=\"green\",label='output')\n",
    "output = sigmoid(input+5)\n",
    "plt.plot(input,output,c=\"blue\",label = 'output+5')\n",
    "output = sigmoid(input-5)\n",
    "plt.plot(input,output,c=\"red\",label = 'output-5')\n",
    "plt.legend()"
   ]
  },
  {
   "cell_type": "code",
   "execution_count": null,
   "metadata": {},
   "outputs": [],
   "source": [
    "# Clear Version\n",
    "weights = np.array([[0.2],[0.3]])\n",
    "#bias = 0.3\n",
    "lr = 0.05\n",
    "\n",
    "for epoch in range(10001):\n",
    "    inputs = input_features\n",
    "    in_o = np.dot(inputs, weights) #+ bias\n",
    "    out_o = sigmoid(in_o)\n",
    "    error = out_o - target_output\n",
    "    \n",
    "    x = error.sum()\n",
    "    if epoch%1000 == 0:\n",
    "        print('Epoch:',epoch,'Error Sum:',x)\n",
    "    \n",
    "    dError_dOut = error #1st part\n",
    "    dOut_dIn = sigmoid_der(out_o) #2nd part\n",
    "    inputs = input_features.T #3rd part\n",
    "    deriv_final = np.dot(inputs, dError_dOut * dOut_dIn) \n",
    "    \n",
    "    weights -= lr * deriv_final \n",
    "    \n",
    "    #for i in deriv:\n",
    "    #    bias -= lr * i"
   ]
  },
  {
   "cell_type": "code",
   "execution_count": null,
   "metadata": {},
   "outputs": [],
   "source": [
    "print('Weights:',weights)"
   ]
  },
  {
   "cell_type": "code",
   "execution_count": null,
   "metadata": {},
   "outputs": [],
   "source": [
    "# Prediction with the new model for [1,1], groud truth result = 1\n",
    "single_point = np.array([1,0])\n",
    "result1 = np.dot(single_point, weights)\n",
    "result2 = sigmoid(result1)\n",
    "result2"
   ]
  },
  {
   "cell_type": "code",
   "execution_count": null,
   "metadata": {},
   "outputs": [],
   "source": [
    "# Prediction with the new model for [0,0], groud truth result = 0\n",
    "single_point = np.array([0,0])\n",
    "result1 = np.dot(single_point, weights)\n",
    "result2 = sigmoid(result1)\n",
    "result2"
   ]
  },
  {
   "cell_type": "raw",
   "metadata": {},
   "source": [
    "Reference: \n",
    "1.https://math.stackexchange.com/questions/78575/derivative-of-sigmoid-function-sigma-x-frac11e-x\n",
    "2.https://medium.com/towards-artificial-intelligence/building-neural-networks-from-scratch-with-python-code-and-math-in-detail-i-536fae5d7bbf"
   ]
  }
 ],
 "metadata": {
  "kernelspec": {
   "display_name": "Python 3",
   "language": "python",
   "name": "python3"
  },
  "language_info": {
   "codemirror_mode": {
    "name": "ipython",
    "version": 3
   },
   "file_extension": ".py",
   "mimetype": "text/x-python",
   "name": "python",
   "nbconvert_exporter": "python",
   "pygments_lexer": "ipython3",
   "version": "3.7.6"
  }
 },
 "nbformat": 4,
 "nbformat_minor": 4
}
